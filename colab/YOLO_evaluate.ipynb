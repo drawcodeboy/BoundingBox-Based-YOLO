{
  "nbformat": 4,
  "nbformat_minor": 0,
  "metadata": {
    "colab": {
      "provenance": [],
      "gpuType": "L4"
    },
    "kernelspec": {
      "name": "python3",
      "display_name": "Python 3"
    },
    "language_info": {
      "name": "python"
    },
    "accelerator": "GPU"
  },
  "cells": [
    {
      "cell_type": "code",
      "execution_count": 1,
      "metadata": {
        "colab": {
          "base_uri": "https://localhost:8080/"
        },
        "id": "5QirTGwppiJY",
        "outputId": "00be7cdd-f319-4343-c917-affa91d0ddf8"
      },
      "outputs": [
        {
          "output_type": "stream",
          "name": "stdout",
          "text": [
            "Cloning into 'BoundingBox-Based-YOLO'...\n",
            "remote: Enumerating objects: 155, done.\u001b[K\n",
            "remote: Counting objects: 100% (155/155), done.\u001b[K\n",
            "remote: Compressing objects: 100% (96/96), done.\u001b[K\n",
            "remote: Total 155 (delta 77), reused 119 (delta 44), pack-reused 0\u001b[K\n",
            "Receiving objects: 100% (155/155), 34.95 KiB | 586.00 KiB/s, done.\n",
            "Resolving deltas: 100% (77/77), done.\n"
          ]
        }
      ],
      "source": [
        "!git clone https://github.com/drawcodeboy/BoundingBox-Based-YOLO.git"
      ]
    },
    {
      "cell_type": "code",
      "source": [
        "import os\n",
        "\n",
        "# 현재 작업 경로 확인\n",
        "print(os.getcwd())\n",
        "\n",
        "# cwd 변경\n",
        "os.chdir('/content/BoundingBox-Based-YOLO')\n",
        "\n",
        "# 현재 작업 경로 확인\n",
        "print(os.getcwd())"
      ],
      "metadata": {
        "colab": {
          "base_uri": "https://localhost:8080/"
        },
        "id": "q_9Hv54Epu0v",
        "outputId": "7798d74d-1299-4659-c06a-ca7ef672fe5d"
      },
      "execution_count": 2,
      "outputs": [
        {
          "output_type": "stream",
          "name": "stdout",
          "text": [
            "/content\n",
            "/content/BoundingBox-Based-YOLO\n"
          ]
        }
      ]
    },
    {
      "cell_type": "code",
      "source": [
        "import zipfile\n",
        "\n",
        "# 파일 경로 입력\n",
        "zip_file_name = '/content/drive/MyDrive/Pascal VOC 2012.v1-raw.yolov5pytorch.zip'\n",
        "\n",
        "# 압축 해제할 상위 폴더 만들기\n",
        "os.mkdir('/content/BoundingBox-Based-YOLO/data/Pascal VOC 2012.v1-raw.yolov5pytorch')\n",
        "\n",
        "# 압축 해제할 경로 입력\n",
        "extraction_dir = '/content/BoundingBox-Based-YOLO/data/Pascal VOC 2012.v1-raw.yolov5pytorch'\n",
        "\n",
        "# 압축 해제\n",
        "with zipfile.ZipFile(zip_file_name, 'r') as zip_ref:\n",
        "    zip_ref.extractall(extraction_dir)"
      ],
      "metadata": {
        "id": "yE7eoa0_pxvp"
      },
      "execution_count": 3,
      "outputs": []
    },
    {
      "cell_type": "code",
      "source": [
        "#BB-Based YOLOv1 iou threshold >= 0.3\n",
        "!python main.py --model=2 --mode=test --data=pascal --batch_size=16 --device=cuda --file_name=\"/content/drive/MyDrive/bb_based_yolov1_pascal_100epochs.pt\" --image_dir=\"data/Pascal VOC 2012.v1-raw.yolov5pytorch/valid/images\" --label_dir=\"data/Pascal VOC 2012.v1-raw.yolov5pytorch/valid/labels\"  --iou_threshold=0.3"
      ],
      "metadata": {
        "colab": {
          "base_uri": "https://localhost:8080/"
        },
        "id": "11iAnOtQuk19",
        "outputId": "027f3b8a-8ced-4abe-eb49-880f9d232487"
      },
      "execution_count": 4,
      "outputs": [
        {
          "output_type": "stream",
          "name": "stdout",
          "text": [
            "You can use GPU\n",
            "Proceed? [Y/N]: y\n",
            "Load Model Complete\n",
            "Dataset Length: 3422\n",
            "Load Dataset Complete\n",
            "\n",
            "Test: 100.00%\n",
            "class: 0, AP: 0.2314\n",
            "class: 1, AP: 0.1818\n",
            "class: 2, AP: 0.2273\n",
            "class: 3, AP: 0.1077\n",
            "class: 4, AP: 0.0055\n",
            "class: 5, AP: 0.2348\n",
            "class: 6, AP: 0.9091\n",
            "class: 7, AP: 0.9091\n",
            "class: 8, AP: 0.9091\n",
            "class: 9, AP: 0.0013\n",
            "class: 10, AP: 0.5455\n",
            "class: 11, AP: 0.6926\n",
            "class: 12, AP: 0.3182\n",
            "class: 13, AP: 0.9091\n",
            "class: 14, AP: 0.2273\n",
            "class: 15, AP: 0.0001\n",
            "class: 16, AP: 0.0006\n",
            "class: 17, AP: 0.9091\n",
            "class: 18, AP: 0.5682\n",
            "class: 19, AP: 0.1515\n",
            "mAP: 0.401958\n"
          ]
        }
      ]
    },
    {
      "cell_type": "code",
      "source": [
        "# YOLOv1 iou threshold >= 0.3\n",
        "!python main.py --model=1 --mode=test --data=pascal --batch_size=16 --device=cuda --file_name=\"/content/drive/MyDrive/yolov1_pascal_100epochs.pt\" --image_dir=\"data/Pascal VOC 2012.v1-raw.yolov5pytorch/valid/images\" --label_dir=\"data/Pascal VOC 2012.v1-raw.yolov5pytorch/valid/labels\"  --iou_threshold=0.3"
      ],
      "metadata": {
        "colab": {
          "base_uri": "https://localhost:8080/"
        },
        "id": "lW-sMbL1vYwo",
        "outputId": "fd040c48-57ce-410a-d42e-3fccfb928446"
      },
      "execution_count": 5,
      "outputs": [
        {
          "output_type": "stream",
          "name": "stdout",
          "text": [
            "You can use GPU\n",
            "Proceed? [Y/N]: y\n",
            "Load Model Complete\n",
            "Dataset Length: 3422\n",
            "Load Dataset Complete\n",
            "\n",
            "Test: 100.00%\n",
            "class: 0, AP: 0.1894\n",
            "class: 1, AP: 0.9091\n",
            "class: 2, AP: 0.0676\n",
            "class: 3, AP: 0.0089\n",
            "class: 4, AP: 0.9091\n",
            "class: 5, AP: 0.9091\n",
            "class: 6, AP: 0.6225\n",
            "class: 7, AP: 0.9091\n",
            "class: 8, AP: 0.0182\n",
            "class: 9, AP: 0.0000\n",
            "class: 10, AP: 0.0145\n",
            "class: 11, AP: 0.9091\n",
            "class: 12, AP: 0.0649\n",
            "class: 13, AP: 0.9091\n",
            "class: 14, AP: 0.1212\n",
            "class: 15, AP: 0.0003\n",
            "class: 16, AP: 0.2273\n",
            "class: 17, AP: 0.0325\n",
            "class: 18, AP: 0.4545\n",
            "class: 19, AP: 0.0001\n",
            "mAP: 0.363822\n"
          ]
        }
      ]
    },
    {
      "cell_type": "code",
      "source": [
        "#BB-Based YOLOv1 iou_threshold >= 0.5\n",
        "!python main.py --model=2 --mode=test --data=pascal --batch_size=16 --device=cuda --file_name=\"/content/drive/MyDrive/bb_based_yolov1_pascal_100epochs.pt\" --image_dir=\"data/Pascal VOC 2012.v1-raw.yolov5pytorch/valid/images\" --label_dir=\"data/Pascal VOC 2012.v1-raw.yolov5pytorch/valid/labels\""
      ],
      "metadata": {
        "colab": {
          "base_uri": "https://localhost:8080/"
        },
        "id": "S0gRfpams_60",
        "outputId": "1f93b694-72bd-4889-d134-46e9520a98aa"
      },
      "execution_count": 6,
      "outputs": [
        {
          "output_type": "stream",
          "name": "stdout",
          "text": [
            "You can use GPU\n",
            "Proceed? [Y/N]: y\n",
            "Load Model Complete\n",
            "Dataset Length: 3422\n",
            "Load Dataset Complete\n",
            "\n",
            "Test: 100.00%\n",
            "class: 0, AP: 0.0727\n",
            "class: 1, AP: 0.1818\n",
            "class: 2, AP: 0.0047\n",
            "class: 3, AP: 0.0195\n",
            "class: 4, AP: 0.0005\n",
            "class: 5, AP: 0.1240\n",
            "class: 6, AP: 0.2273\n",
            "class: 7, AP: 0.9091\n",
            "class: 8, AP: 0.9091\n",
            "class: 9, AP: 0.0000\n",
            "class: 10, AP: 0.3030\n",
            "class: 11, AP: 0.3017\n",
            "class: 12, AP: 0.2338\n",
            "class: 13, AP: 0.2727\n",
            "class: 14, AP: 0.0200\n",
            "class: 15, AP: 0.0000\n",
            "class: 16, AP: 0.0001\n",
            "class: 17, AP: 0.4242\n",
            "class: 18, AP: 0.4545\n",
            "class: 19, AP: 0.0114\n",
            "mAP: 0.223504\n"
          ]
        }
      ]
    },
    {
      "cell_type": "code",
      "source": [
        "# YOLOv1 iou threshold >= 0.5\n",
        "!python main.py --model=1 --mode=test --data=pascal --batch_size=16 --device=cuda --file_name=\"/content/drive/MyDrive/yolov1_pascal_100epochs.pt\" --image_dir=\"data/Pascal VOC 2012.v1-raw.yolov5pytorch/valid/images\" --label_dir=\"data/Pascal VOC 2012.v1-raw.yolov5pytorch/valid/labels\""
      ],
      "metadata": {
        "colab": {
          "base_uri": "https://localhost:8080/"
        },
        "id": "Q-MI3GYuqTa5",
        "outputId": "0963343c-6ba0-4954-89a0-7eb386737497"
      },
      "execution_count": 7,
      "outputs": [
        {
          "output_type": "stream",
          "name": "stdout",
          "text": [
            "You can use GPU\n",
            "Proceed? [Y/N]: y\n",
            "Load Model Complete\n",
            "Dataset Length: 3422\n",
            "Load Dataset Complete\n",
            "\n",
            "Test: 100.00%\n",
            "class: 0, AP: 0.0568\n",
            "class: 1, AP: 0.9091\n",
            "class: 2, AP: 0.0025\n",
            "class: 3, AP: 0.0000\n",
            "class: 4, AP: 0.9091\n",
            "class: 5, AP: 0.1299\n",
            "class: 6, AP: 0.3485\n",
            "class: 7, AP: 0.1860\n",
            "class: 8, AP: 0.0003\n",
            "class: 9, AP: 0.0000\n",
            "class: 10, AP: 0.0013\n",
            "class: 11, AP: 0.9091\n",
            "class: 12, AP: 0.0195\n",
            "class: 13, AP: 0.9091\n",
            "class: 14, AP: 0.0313\n",
            "class: 15, AP: 0.0000\n",
            "class: 16, AP: 0.0023\n",
            "class: 17, AP: 0.0097\n",
            "class: 18, AP: 0.2273\n",
            "class: 19, AP: 0.0000\n",
            "mAP: 0.232588\n"
          ]
        }
      ]
    },
    {
      "cell_type": "code",
      "source": [
        "#BB-Based YOLOv1 iou_threshold >= 0.7\n",
        "!python main.py --model=2 --mode=test --data=pascal --batch_size=16 --device=cuda --file_name=\"/content/drive/MyDrive/bb_based_yolov1_pascal_100epochs.pt\" --image_dir=\"data/Pascal VOC 2012.v1-raw.yolov5pytorch/valid/images\" --label_dir=\"data/Pascal VOC 2012.v1-raw.yolov5pytorch/valid/labels\" --iou_threshold=0.7"
      ],
      "metadata": {
        "colab": {
          "base_uri": "https://localhost:8080/"
        },
        "id": "gaAwTGNOw2uZ",
        "outputId": "06b1b928-3376-440a-b6df-c7567a1ff426"
      },
      "execution_count": 9,
      "outputs": [
        {
          "output_type": "stream",
          "name": "stdout",
          "text": [
            "You can use GPU\n",
            "Proceed? [Y/N]: y\n",
            "Load Model Complete\n",
            "Dataset Length: 3422\n",
            "Load Dataset Complete\n",
            "\n",
            "Test: 100.00%\n",
            "class: 0, AP: 0.0145\n",
            "class: 1, AP: 0.0496\n",
            "class: 2, AP: 0.0000\n",
            "class: 3, AP: 0.0000\n",
            "class: 4, AP: 0.0005\n",
            "class: 5, AP: 0.0341\n",
            "class: 6, AP: 0.1212\n",
            "class: 7, AP: 0.0202\n",
            "class: 8, AP: 0.0000\n",
            "class: 9, AP: 0.0000\n",
            "class: 10, AP: 0.0000\n",
            "class: 11, AP: 0.0808\n",
            "class: 12, AP: 0.0455\n",
            "class: 13, AP: 0.0000\n",
            "class: 14, AP: 0.0017\n",
            "class: 15, AP: 0.0000\n",
            "class: 16, AP: 0.0000\n",
            "class: 17, AP: 0.0010\n",
            "class: 18, AP: 0.0021\n",
            "class: 19, AP: 0.0000\n",
            "mAP: 0.018553\n"
          ]
        }
      ]
    },
    {
      "cell_type": "code",
      "source": [
        "# YOLOv1 iou threshold >= 0.7\n",
        "!python main.py --model=1 --mode=test --data=pascal --batch_size=16 --device=cuda --file_name=\"/content/drive/MyDrive/yolov1_pascal_100epochs.pt\" --image_dir=\"data/Pascal VOC 2012.v1-raw.yolov5pytorch/valid/images\" --label_dir=\"data/Pascal VOC 2012.v1-raw.yolov5pytorch/valid/labels\" --iou_threshold=0.7"
      ],
      "metadata": {
        "colab": {
          "base_uri": "https://localhost:8080/"
        },
        "id": "35YiBHeww95W",
        "outputId": "f5a8197f-cff7-4c3e-974d-4534b38a1379"
      },
      "execution_count": 10,
      "outputs": [
        {
          "output_type": "stream",
          "name": "stdout",
          "text": [
            "You can use GPU\n",
            "Proceed? [Y/N]: y\n",
            "Load Model Complete\n",
            "Dataset Length: 3422\n",
            "Load Dataset Complete\n",
            "\n",
            "Test: 100.00%\n",
            "class: 0, AP: 0.0331\n",
            "class: 1, AP: 0.9091\n",
            "class: 2, AP: 0.0025\n",
            "class: 3, AP: 0.0000\n",
            "class: 4, AP: 0.0000\n",
            "class: 5, AP: 0.0273\n",
            "class: 6, AP: 0.1748\n",
            "class: 7, AP: 0.0303\n",
            "class: 8, AP: 0.0000\n",
            "class: 9, AP: 0.0000\n",
            "class: 10, AP: 0.0000\n",
            "class: 11, AP: 0.0202\n",
            "class: 12, AP: 0.0000\n",
            "class: 13, AP: 0.0049\n",
            "class: 14, AP: 0.0053\n",
            "class: 15, AP: 0.0000\n",
            "class: 16, AP: 0.0000\n",
            "class: 17, AP: 0.0000\n",
            "class: 18, AP: 0.0000\n",
            "class: 19, AP: 0.0000\n",
            "mAP: 0.060375\n"
          ]
        }
      ]
    }
  ]
}